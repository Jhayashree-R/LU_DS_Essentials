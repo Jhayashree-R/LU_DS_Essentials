{
  "nbformat": 4,
  "nbformat_minor": 0,
  "metadata": {
    "colab": {
      "name": "Day1_LU_DS_Essentials_Jhayashree.ipynb",
      "provenance": []
    },
    "kernelspec": {
      "name": "python3",
      "display_name": "Python 3"
    }
  },
  "cells": [
    {
      "cell_type": "markdown",
      "metadata": {
        "id": "i61UYVnnJQwJ"
      },
      "source": [
        "# Question 1"
      ]
    },
    {
      "cell_type": "code",
      "metadata": {
        "colab": {
          "base_uri": "https://localhost:8080/"
        },
        "id": "aflVHMfUJby5",
        "outputId": "c9fb7228-c13a-4633-b2a2-f0553dd71c0f"
      },
      "source": [
        "print(\"RAINBOW\")"
      ],
      "execution_count": 1,
      "outputs": [
        {
          "output_type": "stream",
          "text": [
            "RAINBOW\n"
          ],
          "name": "stdout"
        }
      ]
    },
    {
      "cell_type": "markdown",
      "metadata": {
        "id": "IuOLfHPJJn_E"
      },
      "source": [
        "# Question 2"
      ]
    },
    {
      "cell_type": "code",
      "metadata": {
        "colab": {
          "base_uri": "https://localhost:8080/"
        },
        "id": "d5aPDaecJi3-",
        "outputId": "433f1eda-a295-48d0-cbd6-f54d5cfa7cb6"
      },
      "source": [
        "print(\"LETS UPGRADE\")"
      ],
      "execution_count": 2,
      "outputs": [
        {
          "output_type": "stream",
          "text": [
            "LETS UPGRADE\n"
          ],
          "name": "stdout"
        }
      ]
    },
    {
      "cell_type": "markdown",
      "metadata": {
        "id": "PCtd1tryJ9fM"
      },
      "source": [
        "# Question 3"
      ]
    },
    {
      "cell_type": "code",
      "metadata": {
        "colab": {
          "base_uri": "https://localhost:8080/"
        },
        "id": "HY8cXAXlJ7IR",
        "outputId": "0594a36e-c1c0-40f0-cbd1-b8bcb91e5f0e"
      },
      "source": [
        "costPrice = float(input())\n",
        "sellingPrice = float(input())\n",
        "profit = sellingPrice - costPrice\n",
        "if(profit > 0):\n",
        "  print(\"Profit\")\n",
        "elif(profit < 0):\n",
        "  print(\"Loss\")\n",
        "else:\n",
        "  print(\"Neither\")"
      ],
      "execution_count": 3,
      "outputs": [
        {
          "output_type": "stream",
          "text": [
            "34.5\n",
            "56\n",
            "Profit\n"
          ],
          "name": "stdout"
        }
      ]
    },
    {
      "cell_type": "markdown",
      "metadata": {
        "id": "1NHP55JPMCDB"
      },
      "source": [
        "# Question 4"
      ]
    },
    {
      "cell_type": "code",
      "metadata": {
        "colab": {
          "base_uri": "https://localhost:8080/"
        },
        "id": "XNxPenh1MG1E",
        "outputId": "08f2095e-94b5-4b62-804d-6b2cd45b1302"
      },
      "source": [
        "amtInEuros = int(input())\n",
        "amtInRupees = amtInEuros * 80\n",
        "print(amtInRupees)"
      ],
      "execution_count": 4,
      "outputs": [
        {
          "output_type": "stream",
          "text": [
            "72\n",
            "5760\n"
          ],
          "name": "stdout"
        }
      ]
    }
  ]
}