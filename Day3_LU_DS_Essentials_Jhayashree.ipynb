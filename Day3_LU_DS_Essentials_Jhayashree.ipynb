{
  "nbformat": 4,
  "nbformat_minor": 0,
  "metadata": {
    "colab": {
      "name": "Day3_LU_DS_Essentials_Jhayashree.ipynb",
      "provenance": [],
      "collapsed_sections": []
    },
    "kernelspec": {
      "name": "python3",
      "display_name": "Python 3"
    }
  },
  "cells": [
    {
      "cell_type": "markdown",
      "metadata": {
        "id": "8GxyAqiUSet5"
      },
      "source": [
        "Day 3 Assignment "
      ]
    },
    {
      "cell_type": "code",
      "metadata": {
        "id": "merlJj7gR6yN",
        "outputId": "ac56a16b-1454-4d2e-bc8d-28964f842761",
        "colab": {
          "base_uri": "https://localhost:8080/"
        }
      },
      "source": [
        "import numpy as np\n",
        "\n",
        "arr = np.arange(2,50,2)\n",
        "print(arr)"
      ],
      "execution_count": 2,
      "outputs": [
        {
          "output_type": "stream",
          "text": [
            "[ 2  4  6  8 10 12 14 16 18 20 22 24 26 28 30 32 34 36 38 40 42 44 46 48]\n"
          ],
          "name": "stdout"
        }
      ]
    },
    {
      "cell_type": "code",
      "metadata": {
        "id": "MBydxLx_SDPF",
        "outputId": "49923671-f57e-4eb6-f2e7-d2900cdf34d6",
        "colab": {
          "base_uri": "https://localhost:8080/"
        }
      },
      "source": [
        "#Question2\n",
        "\n",
        "def createList(l):\n",
        "  print(\"Enter 5 elements\")\n",
        "  for j in range(5):\n",
        "    ele = input()\n",
        "    l.append(ele)\n",
        "  print(\"Finished creating the list\")\n",
        "\n",
        "list1=[]\n",
        "list2=[]\n",
        "createList(list1)\n",
        "createList(list2)\n",
        "print(list1)\n",
        "print(list2)\n",
        "\n",
        "arr1 = np.array(list1)\n",
        "arr2 = np.array(list2)\n",
        "\n",
        "concatArr = np.concatenate((arr1,arr2),axis=None)\n",
        "print(concatArr)\n",
        "\n",
        "srt1 = np.sort(arr1)\n",
        "print(srt1)\n",
        "srt2 = np.sort(arr2)\n",
        "print(srt2);"
      ],
      "execution_count": 20,
      "outputs": [
        {
          "output_type": "stream",
          "text": [
            "Enter 5 elements\n",
            "jack\n",
            "Jill\n",
            "merlin\n",
            "78\n",
            "33\n",
            "Finished creating the list\n",
            "Enter 5 elements\n",
            "34\n",
            "56\n",
            "345948\n",
            "Old\n",
            "tenet\n",
            "Finished creating the list\n",
            "['jack', 'Jill', 'merlin', '78', '33']\n",
            "['34', '56', '345948', 'Old', 'tenet']\n",
            "['jack' 'Jill' 'merlin' '78' '33' '34' '56' '345948' 'Old' 'tenet']\n",
            "['33' '78' 'Jill' 'jack' 'merlin']\n",
            "['34' '345948' '56' 'Old' 'tenet']\n"
          ],
          "name": "stdout"
        }
      ]
    },
    {
      "cell_type": "code",
      "metadata": {
        "id": "qepQgW-rbrLQ",
        "outputId": "605425b5-ff37-429a-8d29-657b5cdc9167",
        "colab": {
          "base_uri": "https://localhost:8080/"
        }
      },
      "source": [
        "#Question3\n",
        "\n",
        "arr = np.array([[[1,2,3],[4,5,6],[7,89,92]],[[3,4,5],[1,1,1],[0,9,0]]])\n",
        "\n",
        "print(\"Size of the ndarray\",arr.size)\n",
        "print(\"Dimensions of the ndarray\",arr.ndim)\n"
      ],
      "execution_count": 26,
      "outputs": [
        {
          "output_type": "stream",
          "text": [
            "Size of the ndarray 18\n",
            "Dimensions of the ndarray 3\n"
          ],
          "name": "stdout"
        }
      ]
    },
    {
      "cell_type": "code",
      "metadata": {
        "id": "geA1_zildcV9",
        "outputId": "4fd30f57-d2c3-444f-81d0-ef827e84f3aa",
        "colab": {
          "base_uri": "https://localhost:8080/"
        }
      },
      "source": [
        "#Question 4\n",
        "\n",
        "arr = np.ones(3)\n",
        "\n",
        "arr_2d = arr[np.newaxis]\n",
        "\n",
        "print(arr_2d.ndim)\n",
        "print(arr_2d)\n",
        "\n",
        "#expand_dims()\n",
        "\n",
        "NewArr_2d = np.expand_dims(arr, axis = 0) \n",
        "\n",
        "print(NewArr_2d)\n",
        "print(NewArr_2d.ndim)\n",
        "\n",
        "vert_arr = np.expand_dims(arr,axis = 1)\n",
        "\n",
        "print(vert_arr)\n",
        "print(vert_arr.ndim)"
      ],
      "execution_count": 44,
      "outputs": [
        {
          "output_type": "stream",
          "text": [
            "2\n",
            "[[1. 1. 1.]]\n",
            "[[1. 1. 1.]]\n",
            "2\n",
            "[[1.]\n",
            " [1.]\n",
            " [1.]]\n",
            "2\n"
          ],
          "name": "stdout"
        }
      ]
    },
    {
      "cell_type": "code",
      "metadata": {
        "id": "S64qOQFYiTAq",
        "outputId": "df80aed4-893b-43b6-c0e7-4b329299a2b2",
        "colab": {
          "base_uri": "https://localhost:8080/"
        }
      },
      "source": [
        "#Question 5\n",
        "\n",
        "arr1 = np.ones((10,10))\n",
        "print(arr1, end=\"\\n\\n\")\n",
        "\n",
        "arr2 = np.identity(10)\n",
        "print(arr2,end=\"\\n\\n\")\n",
        "\n",
        "print(\"Horizontal Stack : \\n\", np.hstack((arr1,arr2)),end=\"\\n\\n\")\n",
        "\n",
        "print(\"Vertical Stack : \\n \", np.vstack((arr1,arr2)),end=\"\\n\\n\")\n"
      ],
      "execution_count": 50,
      "outputs": [
        {
          "output_type": "stream",
          "text": [
            "[[1. 1. 1. 1. 1. 1. 1. 1. 1. 1.]\n",
            " [1. 1. 1. 1. 1. 1. 1. 1. 1. 1.]\n",
            " [1. 1. 1. 1. 1. 1. 1. 1. 1. 1.]\n",
            " [1. 1. 1. 1. 1. 1. 1. 1. 1. 1.]\n",
            " [1. 1. 1. 1. 1. 1. 1. 1. 1. 1.]\n",
            " [1. 1. 1. 1. 1. 1. 1. 1. 1. 1.]\n",
            " [1. 1. 1. 1. 1. 1. 1. 1. 1. 1.]\n",
            " [1. 1. 1. 1. 1. 1. 1. 1. 1. 1.]\n",
            " [1. 1. 1. 1. 1. 1. 1. 1. 1. 1.]\n",
            " [1. 1. 1. 1. 1. 1. 1. 1. 1. 1.]]\n",
            "\n",
            "[[1. 0. 0. 0. 0. 0. 0. 0. 0. 0.]\n",
            " [0. 1. 0. 0. 0. 0. 0. 0. 0. 0.]\n",
            " [0. 0. 1. 0. 0. 0. 0. 0. 0. 0.]\n",
            " [0. 0. 0. 1. 0. 0. 0. 0. 0. 0.]\n",
            " [0. 0. 0. 0. 1. 0. 0. 0. 0. 0.]\n",
            " [0. 0. 0. 0. 0. 1. 0. 0. 0. 0.]\n",
            " [0. 0. 0. 0. 0. 0. 1. 0. 0. 0.]\n",
            " [0. 0. 0. 0. 0. 0. 0. 1. 0. 0.]\n",
            " [0. 0. 0. 0. 0. 0. 0. 0. 1. 0.]\n",
            " [0. 0. 0. 0. 0. 0. 0. 0. 0. 1.]]\n",
            "\n",
            "Horizontal Stack : \n",
            " [[1. 1. 1. 1. 1. 1. 1. 1. 1. 1. 1. 0. 0. 0. 0. 0. 0. 0. 0. 0.]\n",
            " [1. 1. 1. 1. 1. 1. 1. 1. 1. 1. 0. 1. 0. 0. 0. 0. 0. 0. 0. 0.]\n",
            " [1. 1. 1. 1. 1. 1. 1. 1. 1. 1. 0. 0. 1. 0. 0. 0. 0. 0. 0. 0.]\n",
            " [1. 1. 1. 1. 1. 1. 1. 1. 1. 1. 0. 0. 0. 1. 0. 0. 0. 0. 0. 0.]\n",
            " [1. 1. 1. 1. 1. 1. 1. 1. 1. 1. 0. 0. 0. 0. 1. 0. 0. 0. 0. 0.]\n",
            " [1. 1. 1. 1. 1. 1. 1. 1. 1. 1. 0. 0. 0. 0. 0. 1. 0. 0. 0. 0.]\n",
            " [1. 1. 1. 1. 1. 1. 1. 1. 1. 1. 0. 0. 0. 0. 0. 0. 1. 0. 0. 0.]\n",
            " [1. 1. 1. 1. 1. 1. 1. 1. 1. 1. 0. 0. 0. 0. 0. 0. 0. 1. 0. 0.]\n",
            " [1. 1. 1. 1. 1. 1. 1. 1. 1. 1. 0. 0. 0. 0. 0. 0. 0. 0. 1. 0.]\n",
            " [1. 1. 1. 1. 1. 1. 1. 1. 1. 1. 0. 0. 0. 0. 0. 0. 0. 0. 0. 1.]]\n",
            "\n",
            "Vertical Stack : \n",
            "  [[1. 1. 1. 1. 1. 1. 1. 1. 1. 1.]\n",
            " [1. 1. 1. 1. 1. 1. 1. 1. 1. 1.]\n",
            " [1. 1. 1. 1. 1. 1. 1. 1. 1. 1.]\n",
            " [1. 1. 1. 1. 1. 1. 1. 1. 1. 1.]\n",
            " [1. 1. 1. 1. 1. 1. 1. 1. 1. 1.]\n",
            " [1. 1. 1. 1. 1. 1. 1. 1. 1. 1.]\n",
            " [1. 1. 1. 1. 1. 1. 1. 1. 1. 1.]\n",
            " [1. 1. 1. 1. 1. 1. 1. 1. 1. 1.]\n",
            " [1. 1. 1. 1. 1. 1. 1. 1. 1. 1.]\n",
            " [1. 1. 1. 1. 1. 1. 1. 1. 1. 1.]\n",
            " [1. 0. 0. 0. 0. 0. 0. 0. 0. 0.]\n",
            " [0. 1. 0. 0. 0. 0. 0. 0. 0. 0.]\n",
            " [0. 0. 1. 0. 0. 0. 0. 0. 0. 0.]\n",
            " [0. 0. 0. 1. 0. 0. 0. 0. 0. 0.]\n",
            " [0. 0. 0. 0. 1. 0. 0. 0. 0. 0.]\n",
            " [0. 0. 0. 0. 0. 1. 0. 0. 0. 0.]\n",
            " [0. 0. 0. 0. 0. 0. 1. 0. 0. 0.]\n",
            " [0. 0. 0. 0. 0. 0. 0. 1. 0. 0.]\n",
            " [0. 0. 0. 0. 0. 0. 0. 0. 1. 0.]\n",
            " [0. 0. 0. 0. 0. 0. 0. 0. 0. 1.]]\n",
            "\n"
          ],
          "name": "stdout"
        }
      ]
    },
    {
      "cell_type": "markdown",
      "metadata": {
        "id": "RtBzcOrOpleg"
      },
      "source": [
        ""
      ]
    },
    {
      "cell_type": "code",
      "metadata": {
        "id": "B51eCMCTk2Uw",
        "outputId": "9b391db6-300e-407d-d8d5-45ef2a74d32b",
        "colab": {
          "base_uri": "https://localhost:8080/"
        }
      },
      "source": [
        "#Question 6\n",
        "\n",
        "arr5 = np.random.randint(2,100,(3,6))\n",
        "print(arr5, end=\"\\n\\n\")\n",
        "\n",
        "print(\"Unique elements with count: \\n\", np.unique(arr5,return_counts=True))\n"
      ],
      "execution_count": 57,
      "outputs": [
        {
          "output_type": "stream",
          "text": [
            "[[50 43 33 57 14 11]\n",
            " [75 25 44 80 15 28]\n",
            " [97 25 24 90 30 81]]\n",
            "\n",
            "Unique elements with count: \n",
            " (array([11, 14, 15, 24, 25, 28, 30, 33, 43, 44, 50, 57, 75, 80, 81, 90, 97]), array([1, 1, 1, 1, 2, 1, 1, 1, 1, 1, 1, 1, 1, 1, 1, 1, 1]))\n"
          ],
          "name": "stdout"
        }
      ]
    }
  ]
}