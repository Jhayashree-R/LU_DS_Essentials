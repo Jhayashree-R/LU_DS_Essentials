{
  "nbformat": 4,
  "nbformat_minor": 0,
  "metadata": {
    "colab": {
      "name": "Day2_LU_DS_Essentials_Jhayashree.ipynb",
      "provenance": []
    },
    "kernelspec": {
      "name": "python3",
      "display_name": "Python 3"
    }
  },
  "cells": [
    {
      "cell_type": "markdown",
      "metadata": {
        "id": "7q_7joDKTAyh"
      },
      "source": [
        "# Question 1"
      ]
    },
    {
      "cell_type": "code",
      "metadata": {
        "colab": {
          "base_uri": "https://localhost:8080/"
        },
        "id": "3kbdH7E4TFWH",
        "outputId": "99e8897a-70af-4de0-8844-27722db12b13"
      },
      "source": [
        "l1 = []\n",
        "for i in range(10):\n",
        "  inp = int(input())\n",
        "  if(inp%2 == 0):\n",
        "    l1.append(inp)\n",
        "print(l1)"
      ],
      "execution_count": 3,
      "outputs": [
        {
          "output_type": "stream",
          "text": [
            "45\n",
            "56\n",
            "8\n",
            "77\n",
            "67\n",
            "34\n",
            "31\n",
            "1567\n",
            "890\n",
            "40\n",
            "[56, 8, 34, 890, 40]\n"
          ],
          "name": "stdout"
        }
      ]
    },
    {
      "cell_type": "markdown",
      "metadata": {
        "id": "fnH3iKehfhQq"
      },
      "source": [
        "# Question 2"
      ]
    },
    {
      "cell_type": "code",
      "metadata": {
        "id": "3QaMk-lnDHIi",
        "colab": {
          "base_uri": "https://localhost:8080/"
        },
        "outputId": "85090e4e-d867-49ae-f341-b2f64db6f9b7"
      },
      "source": [
        "l2 = []\n",
        "#Populating a list of 10 integers from user inputs using list comprehension\n",
        "l2 = [int(input()) for i in range(5)]\n",
        "print(l2)"
      ],
      "execution_count": 2,
      "outputs": [
        {
          "output_type": "stream",
          "text": [
            "450\n",
            "59\n",
            "7\n",
            "23\n",
            "45987\n",
            "[450, 59, 7, 23, 45987]\n"
          ],
          "name": "stdout"
        }
      ]
    },
    {
      "cell_type": "code",
      "metadata": {
        "colab": {
          "base_uri": "https://localhost:8080/"
        },
        "id": "00hLKWmB5A2J",
        "outputId": "bbadbb19-b573-4eb4-ff5c-ba61d3537546"
      },
      "source": [
        "#Populating a list with random integers between 1 and 500\n",
        "import random as ran\n",
        "l3 = [ran.randint(1,500) for i in range(5)]\n",
        "print(l3)"
      ],
      "execution_count": 9,
      "outputs": [
        {
          "output_type": "stream",
          "text": [
            "[236, 403, 319, 212, 235]\n"
          ],
          "name": "stdout"
        }
      ]
    },
    {
      "cell_type": "code",
      "metadata": {
        "colab": {
          "base_uri": "https://localhost:8080/"
        },
        "id": "s8FhA6XA8Vay",
        "outputId": "c1e8324a-2813-45c5-d68c-f71c2352121d"
      },
      "source": [
        "# Populating a list of numbers divisible by 3 , divisible by 5 and divisible by neither 3 nor 5 from a preexisting list of random integers.\n",
        "l4 = [ran.randint(1,1000) for i in range(15)]\n",
        "print(\"Parent List : \" , l4)\n",
        "l5 = [x for x in l4 if x%5 == 0]\n",
        "print(\"List of numbers divisible by 5 : \" , l5)\n",
        "l6 = [x for x in l4 if x%3 == 0]\n",
        "print(\"List of numbers divisible by 3 : \" , l6)\n",
        "l7 = [x for x in l4 if x%3 != 0 if x%5 != 0]\n",
        "print(\"List of numbers not divisible by both 3 and 5 : \" , l7)"
      ],
      "execution_count": 12,
      "outputs": [
        {
          "output_type": "stream",
          "text": [
            "Parent List :  [339, 919, 717, 16, 804, 508, 245, 257, 917, 168, 390, 84, 424, 435, 376]\n",
            "List of numbers divisible by 5 :  [245, 390, 435]\n",
            "List of numbers divisible by 3 :  [339, 717, 804, 168, 390, 84, 435]\n",
            "List of numbers not divisible by both 3 and 5 :  [919, 16, 508, 257, 917, 424, 376]\n"
          ],
          "name": "stdout"
        }
      ]
    },
    {
      "cell_type": "code",
      "metadata": {
        "colab": {
          "base_uri": "https://localhost:8080/"
        },
        "id": "ttJZKJyR-k3F",
        "outputId": "46da4350-acb5-4e4d-f232-adb8b9665b15"
      },
      "source": [
        "# Populating a list of even and odd nos from a randomly generated list\n",
        "l8 = [ran.randint(1,1000) for i in range(15)]\n",
        "print(\"Parent List : \" , l8)\n",
        "l9 = [x for x in l4 if x%2 == 0]\n",
        "print(\"Even no.s list : \" , l9)\n",
        "l10 = [x for x in l4 if x%2 != 0]\n",
        "print(\"Odd no.s list : \" , l10)"
      ],
      "execution_count": 13,
      "outputs": [
        {
          "output_type": "stream",
          "text": [
            "Parent List :  [271, 713, 112, 798, 245, 611, 938, 363, 160, 404, 610, 552, 112, 670, 702]\n",
            "Even no.s list :  [16, 804, 508, 168, 390, 84, 424, 376]\n",
            "Odd no.s list :  [339, 919, 717, 245, 257, 917, 435]\n"
          ],
          "name": "stdout"
        }
      ]
    },
    {
      "cell_type": "markdown",
      "metadata": {
        "id": "btQ5Sc1X_cgq"
      },
      "source": [
        "#Question 3"
      ]
    },
    {
      "cell_type": "code",
      "metadata": {
        "colab": {
          "base_uri": "https://localhost:8080/"
        },
        "id": "FrtqqkMQ_pUa",
        "outputId": "15e53a96-8ced-42f2-fadc-605cf20fd5d7"
      },
      "source": [
        "n = int(input())\n",
        "dict_1 = {i:i*i for i in range(n+1)}\n",
        "print(dict_1)"
      ],
      "execution_count": 14,
      "outputs": [
        {
          "output_type": "stream",
          "text": [
            "10\n",
            "{0: 0, 1: 1, 2: 4, 3: 9, 4: 16, 5: 25, 6: 36, 7: 49, 8: 64, 9: 81, 10: 100}\n"
          ],
          "name": "stdout"
        }
      ]
    },
    {
      "cell_type": "markdown",
      "metadata": {
        "id": "-pooR2jQDQcw"
      },
      "source": [
        "#Question 4"
      ]
    },
    {
      "cell_type": "code",
      "metadata": {
        "colab": {
          "base_uri": "https://localhost:8080/"
        },
        "id": "gWQVshRoOHXi",
        "outputId": "e5f16b6f-cc95-4b2f-950c-c13cb9727df7"
      },
      "source": [
        "xInit = 0\n",
        "xFin = 0\n",
        "yInit = 0\n",
        "yFin = 0\n",
        "n = int(input())\n",
        "for i in range(n):\n",
        "  d = input()\n",
        "  dir,step = d.split()\n",
        "  step = int(step)\n",
        "  if dir == \"UP\":\n",
        "    yFin = yFin + step\n",
        "  elif dir == \"DOWN\":\n",
        "    yFin = yFin - step\n",
        "  elif dir == \"LEFT\":\n",
        "    xFin = xFin - step\n",
        "  elif dir == \"RIGHT\":\n",
        "    xFin = xFin + step\n",
        "  else:\n",
        "    print(\"Invalid Input\")\n",
        "import math\n",
        "finalPosition = int(round(math.sqrt( ((xFin - xInit)**2) + ((yFin - yInit)**2) )))\n",
        "print(finalPosition)"
      ],
      "execution_count": 26,
      "outputs": [
        {
          "output_type": "stream",
          "text": [
            "4\n",
            "UP 5\n",
            "DOWN 3\n",
            "LEFT 3\n",
            "RIGHT 2\n",
            "2\n"
          ],
          "name": "stdout"
        }
      ]
    }
  ]
}